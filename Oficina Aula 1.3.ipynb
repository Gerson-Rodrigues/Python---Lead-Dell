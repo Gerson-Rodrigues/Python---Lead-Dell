{
 "cells": [
  {
   "cell_type": "markdown",
   "id": "02b38351-0cbd-442a-9261-5e2ba08ef74c",
   "metadata": {
    "tags": []
   },
   "source": [
    "#### Oficina Aula 1.3\n",
    "Durante a aula, você aprendeu a utilizar o módulo datetime e seus tipos para trabalhar com informação de data e hora. Agora é a vez de praticar os seus conhecimentos. Para esta atividade, considere a situação e os dados a seguir.\n",
    "\n",
    "Seus amigos sabem que você está trabalhando com Python e estão entusiasmados com as possibilidades de aplicações. Um deles é muito esquecido e sugeriu que você fizesse um programa que o alerte quando for o aniversário de alguém do seu grupo de amigos.\n",
    "\n",
    "Você pediu aos seus amigos que anotassem as datas de seus aniversários em uma lista, conforme está descrito a seguir, mas cada pessoa escreveu de uma forma diferente, então, cabe a você interpretá-la adequadamente:\n",
    "\n",
    "aniversarios = ['01/02/1990', '22 de Maio de 1991', '04/Abr/1995', '1995-Outubro-10', '12 Julho 1989', '16 de Junho de 1987', '04/07/1990'].\n",
    "\n",
    "Para isso, o recomendado é criar uma lista de formatos correspondentes e aplicá-la à lista de datas de aniversários. O seu objetivo é criar um programa que converta a lista de datas de tipo string em uma lista de objetos do tipo data e organizá-los por ordem de aniversário no ano. Isso significa que primeiro vem o mês e, em seguida, o dia como critério de ordenação.\n",
    "\n",
    "Depois, você deve verificar se o dia de hoje é aniversário de alguém. Caso seja, você deve escrever a string “Hoje, (DIA DA SEMANA) (DIA) de (MÊS) de (ANO ATUAL), tem aniversário!”, em que as palavras DIA DA SEMANA, DIA, MÊS e ANO ATUAL devem ser substituídas pelos seus respectivos valores. As informações devem estar escritas em português."
   ]
  },
  {
   "cell_type": "code",
   "execution_count": 164,
   "id": "bd273c59-08f2-4241-a314-930110696389",
   "metadata": {},
   "outputs": [
    {
     "name": "stdout",
     "output_type": "stream",
     "text": [
      "8 é o tamanho da lista aniversarios\n",
      "E o indice vai de 0 a 6 \n",
      "\n",
      "HOJE: DOMINGO, 14-NOVEMBRO-2021\n",
      "01/02\n",
      "04/04\n",
      "22/05\n",
      "16/06\n",
      "04/07\n",
      "12/07\n",
      "10/10\n"
     ]
    }
   ],
   "source": [
    "import locale\n",
    "locale.setlocale(locale.LC_ALL, 'pt_BR')\n",
    "from datetime import datetime, date\n",
    "\n",
    "def d1(string_d):\n",
    "    formatos = ['%d/%m/%Y', '%d de %B de %Y', '%d/%b/%Y', '%Y-%B-%d', '%d %B %Y']\n",
    "    for data in formatos:\n",
    "        try:\n",
    "            valor = datetime.strptime(string_d, data).date()\n",
    "            return valor\n",
    "        except ValueError:\n",
    "            pass\n",
    "\n",
    "aniversarios = ['01/02/1990', '22 de Maio de 1991', '04/Abr/1995', '1995-Outubro-10', \n",
    "                '12 Julho 1989', '16 de Junho de 1987', '04/07/1990']\n",
    "#tam_a = len(aniversarios)\n",
    "datas = list(map(d1, aniversarios))\n",
    "\n",
    "d2 = datetime.now()    \n",
    "\n",
    "print(tam_a, 'é o tamanho da lista aniversarios\\n'\n",
    "            'E o indice vai de 0 a 6 \\n')\n",
    "\n",
    "print(d2.strftime(\"Hoje: %A, %d-%B-%Y\").upper())\n",
    "\n",
    "for aniver in sorted(datas, key=lambda d: (d.month, d.day)):\n",
    "    if (aniver.strftime(\"%d/%m\") == d2.strftime(\"%d/%m\")):\n",
    "        print(d2.strftime(\"Um amigo meu está de aniversário hoje, %A, dia %d de %B de %Y.\"))    \n",
    "    else:\n",
    "        print(aniver.strftime(\"%d/%m\"))"
   ]
  },
  {
   "cell_type": "code",
   "execution_count": null,
   "id": "bbb99953-d464-4895-8924-2d6d03b12be8",
   "metadata": {},
   "outputs": [],
   "source": []
  },
  {
   "cell_type": "code",
   "execution_count": null,
   "id": "91529ceb-4044-4ba3-9420-3cf378db3c7e",
   "metadata": {},
   "outputs": [],
   "source": []
  }
 ],
 "metadata": {
  "kernelspec": {
   "display_name": "Python 3 (ipykernel)",
   "language": "python",
   "name": "python3"
  },
  "language_info": {
   "codemirror_mode": {
    "name": "ipython",
    "version": 3
   },
   "file_extension": ".py",
   "mimetype": "text/x-python",
   "name": "python",
   "nbconvert_exporter": "python",
   "pygments_lexer": "ipython3",
   "version": "3.10.0"
  }
 },
 "nbformat": 4,
 "nbformat_minor": 5
}
