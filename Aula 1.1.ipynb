{
 "cells": [
  {
   "cell_type": "code",
   "execution_count": null,
   "id": "e837e70f-06ab-445a-a92d-0f3e81a59fc8",
   "metadata": {
    "collapsed": true,
    "jupyter": {
     "outputs_hidden": true,
     "source_hidden": true
    },
    "tags": []
   },
   "outputs": [
    {
     "name": "stdout",
     "output_type": "stream",
     "text": [
      "8\n",
      "OLÁ, mundo, com vai você?\n"
     ]
    }
   ],
   "source": [
    "f1 = lambda a,b: a+b\n",
    "print(f1(7,1))\n",
    "f2 = lambda x: x[0:3].upper() + x[3:]\n",
    "print(f2('olá, mundo, com vai você?'))"
   ]
  },
  {
   "cell_type": "code",
   "execution_count": 49,
   "id": "2875a540-c078-42a6-bd20-a4ce8bb33c63",
   "metadata": {
    "tags": []
   },
   "outputs": [
    {
     "name": "stdout",
     "output_type": "stream",
     "text": [
      "Grupo 1 [75, 88, 96, 99]\n",
      "Grupo 2 [60, 69, 72]\n",
      "Grupo 3 [30, 34, 45, 54]\n"
     ]
    }
   ],
   "source": [
    "idades = [30, 34, 54, 69, 45, 60, 72, 88, 96, 75, 99]\n",
    "primeiro_grupo = list(filter(lambda x: x >= 75, idades))\n",
    "segundo_grupo = list(filter(lambda x: 60 <= x <= 74, idades))\n",
    "terceiro_grupo = list(filter(lambda x: x <= 59, idades))\n",
    "print('Grupo 1', sorted(primeiro_grupo)) \n",
    "print('Grupo 2', sorted(segundo_grupo)) \n",
    "print('Grupo 3', sorted(terceiro_grupo))"
   ]
  },
  {
   "cell_type": "code",
   "execution_count": 27,
   "id": "000e17a3-ee63-4e5f-85c4-22696387c811",
   "metadata": {
    "collapsed": true,
    "jupyter": {
     "outputs_hidden": true,
     "source_hidden": true
    },
    "tags": []
   },
   "outputs": [
    {
     "name": "stdout",
     "output_type": "stream",
     "text": [
      "[1, 5, 6, 19, 20]\n",
      "['e', 'funcional', 'legal', 'programacao']\n"
     ]
    }
   ],
   "source": [
    "print(sorted([20, 1, 5, 19, 6])) # [1, 5, 6, 19, 20]\n",
    "print(sorted(['programacao', 'funcional', 'e', 'legal']))"
   ]
  },
  {
   "cell_type": "code",
   "execution_count": 28,
   "id": "9d232dd3-c82c-43e5-9776-9570ac43c0b1",
   "metadata": {
    "collapsed": true,
    "jupyter": {
     "outputs_hidden": true,
     "source_hidden": true
    },
    "tags": []
   },
   "outputs": [
    {
     "name": "stdout",
     "output_type": "stream",
     "text": [
      "['e', 'legal', 'funcional', 'programacao']\n"
     ]
    }
   ],
   "source": [
    "print(sorted(['programacao', 'funcional', 'e', 'legal'], key=lambda x: len(x)))"
   ]
  },
  {
   "cell_type": "code",
   "execution_count": 34,
   "id": "b2c2ad35-27a3-4720-a68c-78ea89d9b920",
   "metadata": {
    "collapsed": true,
    "jupyter": {
     "outputs_hidden": true
    },
    "tags": []
   },
   "outputs": [
    {
     "name": "stdout",
     "output_type": "stream",
     "text": [
      "1 ano\n",
      "2 anos\n",
      "5 anos\n",
      "19 anos\n"
     ]
    }
   ],
   "source": [
    "anos = [1.5, 2.3, 5.0, 19.4]\n",
    "anos_inteiros = map(int, anos)\n",
    "for ano in anos_inteiros:\n",
    "    if ano < 2:\n",
    "        print(ano, 'ano')\n",
    "    else:\n",
    "        print(ano, 'anos')"
   ]
  },
  {
   "cell_type": "code",
   "execution_count": 43,
   "id": "bc46734d-2a1c-4080-a0a4-bd7156690ad3",
   "metadata": {
    "tags": []
   },
   "outputs": [
    {
     "name": "stdout",
     "output_type": "stream",
     "text": [
      "[2, 4, 6]\n"
     ]
    }
   ],
   "source": [
    "teste = list(map(lambda y: y*2, [1, 2, 3]))\n",
    "print(teste)\n"
   ]
  },
  {
   "cell_type": "code",
   "execution_count": 42,
   "id": "180ab9d9-b5d9-4fb2-bec0-ed130afcb7b4",
   "metadata": {},
   "outputs": [
    {
     "name": "stdout",
     "output_type": "stream",
     "text": [
      "[4, 8, 7]\n"
     ]
    }
   ],
   "source": [
    "teste = list(map(len, ['amor', 'baixinho', 'coração']))\n",
    "print(teste)\n",
    "                  "
   ]
  },
  {
   "cell_type": "code",
   "execution_count": null,
   "id": "aedc6bf1-61c1-43a1-a19d-42f22a09281e",
   "metadata": {},
   "outputs": [],
   "source": []
  }
 ],
 "metadata": {
  "kernelspec": {
   "display_name": "Python 3 (ipykernel)",
   "language": "python",
   "name": "python3"
  },
  "language_info": {
   "codemirror_mode": {
    "name": "ipython",
    "version": 3
   },
   "file_extension": ".py",
   "mimetype": "text/x-python",
   "name": "python",
   "nbconvert_exporter": "python",
   "pygments_lexer": "ipython3",
   "version": "3.10.0"
  }
 },
 "nbformat": 4,
 "nbformat_minor": 5
}
