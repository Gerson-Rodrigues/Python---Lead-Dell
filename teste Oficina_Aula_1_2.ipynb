{
 "cells": [
  {
   "cell_type": "raw",
   "id": "0b8f21cf",
   "metadata": {},
   "source": [
    "Oficina Aula 1.2\n",
    "\n",
    "Geralmente, os logs são configurados para registrar as mensagens de maior gravidade. Em contrapartida, o modo debug é utilizado somente quando o programa apresenta falhas e é necessário fazer uma auditoria para encontrar o problema.\n",
    "\n",
    "A seguir, considere o caso descrito para resolver a questão.\n",
    "\n",
    "Imagine que você é o cientista de dados de uma grande empresa e, como um bom colaborador, decidiu analisar os dados de log de um programa essencial da empresa, com o intuito de avaliar como o programa se comportou durante um ano de funcionamento.\n",
    "\n",
    "Ao receber o arquivo de log, você percebeu que há dados de pelo menos um ano inteiro e que o arquivo possui 4 Gigabytes de tamanho. Então, você decidiu utilizar expressão regular para avaliar aquele comportamento.\n",
    "\n",
    "Para isso, você precisou construir um código que informasse a quantidade de erros ocorridos e quais os horários em que mais ocorrem erro. Estas informações serão uteis para lhe ajudar a investigar a causa do problema.\n",
    "\n",
    "Sabendo que o log possui uma formatação clara (Dia-Mês-Ano Hora:Minuto:Segundo:Milesimos_de_segundos | Nivel_de_gravidade -> Mensagem), utilize a string a seguir como exemplo para fazer o seu código. Ao final, envie seu código em Python, ou seja, um arquivo com a extensão ‘py’, para avaliarmos como você resolveu esse problema.\n",
    "\n",
    "2020-05-10 20:42:54,687 | INFO -> O programa foi iniciado\n",
    "2020-05-11 00:09:52,532 | ERROR -> Erro não esperado\n",
    "2020-05-11 09:01:10,812 | INFO -> O usuário utilizou o sistema\n",
    "2020-05-11 19:06:13,609 | INFO -> O usuário utilizou o sistema\n",
    "2020-05-11 20:46:35,271 | ERROR -> Erro não esperado\n",
    "2020-05-12 08:14:59,895 | ERROR -> Erro não esperado\n",
    "2020-05-12 11:33:59,700 | INFO -> O usuário utilizou o sistema\n",
    "2020-05-13 10:20:14,673 | INFO -> O usuário utilizou o sistema\n",
    "2020-05-13 16:58:10,298 | WARNING -> O usuário tentou fazer uma operação invalida\n",
    "2020-05-14 03:55:25,383 | INFO -> O usuário utilizou o sistema\n",
    "2020-05-15 02:59:29,002 | INFO -> O usuário utilizou o sistema\n",
    "2020-05-15 08:40:33,776 | ERROR -> Erro não esperado\n",
    "2020-05-15 13:45:29,089 | WARNING -> O usuário tentou fazer uma operação invalida"
   ]
  },
  {
   "cell_type": "code",
   "execution_count": 22,
   "id": "7e8d5d7a",
   "metadata": {},
   "outputs": [
    {
     "name": "stdout",
     "output_type": "stream",
     "text": [
      "Ocorrência de Erros\n",
      " total de:  6 \n",
      "\n",
      " Das  -  Até   -  Nº Erros\n",
      "08:00 - 08:59  -  2\n",
      "00:00 - 00:59  -  1\n",
      "13:00 - 13:59  -  1\n",
      "16:00 - 16:59  -  1\n",
      "20:00 - 20:59  -  1\n"
     ]
    }
   ],
   "source": [
    "import re\n",
    "\n",
    "logs = r\"\"\" 2020-05-10 20:42:54,687 | INFO -> O programa foi iniciado \n",
    "            2020-05-11 00:09:52,532 | ERROR -> Erro não esperado \n",
    "            2020-05-11 09:01:10,812 | INFO -> O usuário utilizou o sistema \n",
    "            2020-05-11 19:06:13,609 | INFO -> O usuário utilizou o sistema \n",
    "            2020-05-11 20:46:35,271 | ERROR -> Erro não esperado \n",
    "            2020-05-12 08:14:59,895 | ERROR -> Erro não esperado \n",
    "            2020-05-12 11:33:59,700 | INFO -> O usuário utilizou o sistema \n",
    "            2020-05-13 10:20:14,673 | INFO -> O usuário utilizou o sistema \n",
    "            2020-05-13 16:58:10,298 | WARNING -> O usuário tentou fazer uma operação invalida \n",
    "            2020-05-14 03:55:25,383 | INFO -> O usuário utilizou o sistema \n",
    "            2020-05-15 02:59:29,002 | INFO -> O usuário utilizou o sistema \n",
    "            2020-05-15 08:40:33,776 | ERROR -> Erro não esperado \n",
    "            2020-05-15 13:45:29,089 | WARNING -> O usuário tentou fazer uma operação invalida \"\"\"\n",
    "\n",
    "\n",
    "def hora(horario):\n",
    "    return horario[0:2]\n",
    "\n",
    "\n",
    "erros = (re.findall(\n",
    "    r'\\d{2}\\W\\d{2}\\W\\d{2},\\d{3}\\W\\|\\WCRITICAL|\\d{2}\\W\\d{2}\\W\\d{2},\\d{3}\\W\\|\\WERROR|\\d{2}\\W\\d{2}\\W\\d{2},\\d{3}\\W\\|\\WWARNING',\n",
    "    logs))\n",
    "print('Ocorrência de Erros\\n total de: ', len(erros), '\\n')\n",
    "\n",
    "hora = sorted(list(map(hora, erros)))\n",
    "\n",
    "horas_unicas = sorted(list(set(hora)))\n",
    "\n",
    "horas_unicas = {}\n",
    "print(' Das  -  Até   -  Nº Erros')\n",
    "for horario in hora:\n",
    "    horas_unicas[horario] = hora.count(horario)\n",
    "\n",
    "for horario_ord in sorted(horas_unicas, key=horas_unicas.get, reverse=True):\n",
    "    print(horario_ord + ':00 - ' + horario_ord + ':59', ' - ', horas_unicas[horario_ord])"
   ]
  },
  {
   "cell_type": "code",
   "execution_count": null,
   "id": "ac7db6d8",
   "metadata": {},
   "outputs": [],
   "source": []
  }
 ],
 "metadata": {
  "kernelspec": {
   "display_name": "Python 3 (ipykernel)",
   "language": "python",
   "name": "python3"
  },
  "language_info": {
   "codemirror_mode": {
    "name": "ipython",
    "version": 3
   },
   "file_extension": ".py",
   "mimetype": "text/x-python",
   "name": "python",
   "nbconvert_exporter": "python",
   "pygments_lexer": "ipython3",
   "version": "3.10.0"
  }
 },
 "nbformat": 4,
 "nbformat_minor": 5
}
