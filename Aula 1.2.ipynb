{
 "cells": [
  {
   "cell_type": "code",
   "execution_count": 3,
   "id": "5ff5acae-2382-404a-9270-6f5ea51ffb20",
   "metadata": {
    "tags": []
   },
   "outputs": [
    {
     "name": "stdout",
     "output_type": "stream",
     "text": [
      "count(0)\n",
      "0\n",
      "2\n"
     ]
    }
   ],
   "source": [
    "import itertools\n",
    "contador = itertools.count()\n",
    "\n",
    "print(contador)\n",
    "print(next(contador))\n",
    "next(contador)\n",
    "print(next(contador))"
   ]
  },
  {
   "cell_type": "markdown",
   "id": "62e5147f-72b2-469c-bb6d-0baed7935f71",
   "metadata": {
    "tags": []
   },
   "source": [
    "## Combinações\n"
   ]
  },
  {
   "cell_type": "code",
   "execution_count": 10,
   "id": "31a5240a-d767-4bfc-ab2f-eba9d7e4ec48",
   "metadata": {
    "tags": []
   },
   "outputs": [
    {
     "name": "stdout",
     "output_type": "stream",
     "text": [
      "<itertools.combinations object at 0x000001836CAD8FE0>\n",
      "\n",
      "[('A', 'B'), ('A', 'C'), ('B', 'C')]\n",
      "\n",
      "[('A', 'A'), ('A', 'B'), ('A', 'C'), ('A', 'B'), ('A', 'C'), ('B', 'C')]\n",
      "\n",
      "[('A', 'B', 'C'), ('A', 'B', 'D'), ('A', 'C', 'D'), ('B', 'C', 'D')]\n"
     ]
    }
   ],
   "source": [
    "import itertools\n",
    "\n",
    "print(itertools.combinations(\"ABC\", 2))\n",
    "print('')\n",
    "print(list(itertools.combinations(\"ABC\", 2)))\n",
    "print('')\n",
    "print(list(itertools.combinations(\"AABC\", 2)))\n",
    "print('')\n",
    "print(list(itertools.combinations(\"ABCD\",3)))"
   ]
  },
  {
   "cell_type": "code",
   "execution_count": 27,
   "id": "69e093a8-bd0f-4c4f-b3cc-7f578c4054d1",
   "metadata": {
    "tags": []
   },
   "outputs": [
    {
     "name": "stdout",
     "output_type": "stream",
     "text": [
      "15 Combinações possíveis\n",
      "\n",
      "[('coxinha', 'pão de queijo'), ('coxinha', 'folheado'), ('coxinha', 'pastel'), ('coxinha', 'esfigha'), ('coxinha', 'empada'), ('pão de queijo', 'folheado'), ('pão de queijo', 'pastel'), ('pão de queijo', 'esfigha'), ('pão de queijo', 'empada'), ('folheado', 'pastel'), ('folheado', 'esfigha'), ('folheado', 'empada'), ('pastel', 'esfigha'), ('pastel', 'empada'), ('esfigha', 'empada')]\n"
     ]
    }
   ],
   "source": [
    "import itertools\n",
    "salgados = ['coxinha', 'pão de queijo', 'folheado', 'pastel', 'esfigha', 'empada']\n",
    "combin = list(itertools.combinations(salgados, 2))\n",
    "\n",
    "print(len(combin), 'Combinações possíveis\\n')\n",
    "print(combin)"
   ]
  },
  {
   "cell_type": "markdown",
   "id": "12b77c82-ff3c-4bd4-90ae-b2ceb5734baa",
   "metadata": {
    "tags": []
   },
   "source": [
    "## Permutação\n",
    "\n",
    "##### é um dos assuntos discutidos na disciplina de análise combinatória e é uma técnica de contagem utilizada para determinar quantas maneiras existem para ordenar os elementos de um conjunto finito."
   ]
  },
  {
   "cell_type": "code",
   "execution_count": 34,
   "id": "68e5f189-69aa-4878-9641-2ff1e7eaaad0",
   "metadata": {
    "tags": []
   },
   "outputs": [
    {
     "name": "stdout",
     "output_type": "stream",
     "text": [
      "6 ordens difirentes\n",
      "[(1, 2, 3), (1, 3, 2), (2, 1, 3), (2, 3, 1), (3, 1, 2), (3, 2, 1)] \n",
      "\n",
      "6 ordens difirentes\n",
      "[(1, 2), (1, 3), (2, 1), (2, 3), (3, 1), (3, 2)] \n",
      "\n"
     ]
    }
   ],
   "source": [
    "import itertools\n",
    "\n",
    "p = list(itertools.permutations([1,2,3]))\n",
    "print(len(p), 'ordens difirentes')\n",
    "print(p, '\\n')\n",
    "\n",
    "p = list(itertools.permutations([1,2,3], r=2))\n",
    "print(len(p), 'ordens difirentes')\n",
    "print(p, '\\n')"
   ]
  },
  {
   "cell_type": "code",
   "execution_count": 41,
   "id": "3f78f941-5b06-4800-bedf-cd8d34017b45",
   "metadata": {
    "tags": []
   },
   "outputs": [
    {
     "name": "stdout",
     "output_type": "stream",
     "text": [
      "120 Possibilidades de ordem das atividades\n",
      "\n"
     ]
    }
   ],
   "source": [
    "import itertools\n",
    "\n",
    "atividades = 'lavar louça', 'limpar banheiro', 'limpar quarto', 'lavar roupa', 'estender roupa'\n",
    "possibi = list(itertools.permutations(atividades))\n",
    "\n",
    "print(len(possibi), 'Possibilidades de ordem das atividades\\n')\n",
    "\n",
    "#print(possibi)"
   ]
  },
  {
   "cell_type": "markdown",
   "id": "c4cd8856-0957-4075-80cc-29355748d2f5",
   "metadata": {
    "tags": []
   },
   "source": [
    "## Produto Cartesiano\n",
    "\n"
   ]
  },
  {
   "cell_type": "code",
   "execution_count": 54,
   "id": "af52b2c5-2804-4e3f-9293-0657af41c17f",
   "metadata": {
    "tags": []
   },
   "outputs": [
    {
     "name": "stdout",
     "output_type": "stream",
     "text": [
      "[(1, 1), (1, 2), (2, 1), (2, 2)] \n",
      "\n",
      "[(1, 1), (1, 2), (2, 1), (2, 2)] \n",
      "\n",
      "[('Python', 'Academy'), ('Python', 'Rocks')] \n",
      "\n",
      "[(1, 3, 5), (1, 3, 6), (1, 4, 5), (1, 4, 6), (2, 3, 5), (2, 3, 6), (2, 4, 5), (2, 4, 6)] \n",
      "\n",
      "8 é o número de combinações\n"
     ]
    }
   ],
   "source": [
    "import itertools\n",
    "\n",
    "print(list(itertools.product([1,2], repeat=2)),'\\n')\n",
    "\n",
    "print(list(itertools.product([1,2], [1,2])),'\\n')\n",
    "\n",
    "print(list(itertools.product(['Python'], ['Academy', 'Rocks'])),'\\n')\n",
    "\n",
    "print(list(itertools.product([1, 2], [3, 4], [5, 6])),'\\n')\n",
    "\n",
    "print(len(list(itertools.product([1, 2], [3, 4], [5, 6]))), 'é o número de combinações')"
   ]
  },
  {
   "cell_type": "code",
   "execution_count": 56,
   "id": "7bd529bc-24ab-4438-b59b-4181abad3488",
   "metadata": {
    "tags": []
   },
   "outputs": [
    {
     "name": "stdout",
     "output_type": "stream",
     "text": [
      "25 combinações possíveis\n",
      "\n",
      "[('blusa verde', 'calça preta'), ('blusa verde', 'calça branca'), ('blusa verde', 'calça azul'), ('blusa verde', 'calça roxa'), ('blusa verde', 'calça jeans'), ('blusa vermelha', 'calça preta'), ('blusa vermelha', 'calça branca'), ('blusa vermelha', 'calça azul'), ('blusa vermelha', 'calça roxa'), ('blusa vermelha', 'calça jeans'), ('blusa azul', 'calça preta'), ('blusa azul', 'calça branca'), ('blusa azul', 'calça azul'), ('blusa azul', 'calça roxa'), ('blusa azul', 'calça jeans'), ('blusa laranja', 'calça preta'), ('blusa laranja', 'calça branca'), ('blusa laranja', 'calça azul'), ('blusa laranja', 'calça roxa'), ('blusa laranja', 'calça jeans'), ('blusa rosa', 'calça preta'), ('blusa rosa', 'calça branca'), ('blusa rosa', 'calça azul'), ('blusa rosa', 'calça roxa'), ('blusa rosa', 'calça jeans')]\n"
     ]
    }
   ],
   "source": [
    "blusas = ['blusa verde', 'blusa vermelha', 'blusa azul', 'blusa laranja', 'blusa rosa']\n",
    "calças = ['calça preta', 'calça branca', 'calça azul', 'calça roxa', 'calça jeans']\n",
    "\n",
    "comb = list(itertools.product(blusas, calças))\n",
    "\n",
    "print(len(comb), 'combinações possíveis\\n')\n",
    "\n",
    "print(comb)"
   ]
  },
  {
   "cell_type": "code",
   "execution_count": 62,
   "id": "6a63bbf0-37f1-4220-a8b9-2f58fd3f7953",
   "metadata": {
    "tags": []
   },
   "outputs": [
    {
     "name": "stdout",
     "output_type": "stream",
     "text": [
      "150\n"
     ]
    }
   ],
   "source": [
    "import itertools\n",
    "\n",
    "nomes = 'nome1', 'nome2', 'nome3', 'nome4', 'nome5', 'nome6', 'nome7', 'nome8', 'nome9', 'nome10'\n",
    "\n",
    "sobrenomes = '#1', '#2', '#3', '#4', '#5', '#6', '#7', '#8', '#9', '#10', '#11', '#12', '#13', '#14', '#15'\n",
    "\n",
    "comb = list(itertools.product(nomes, sobrenomes))\n",
    "\n",
    "print(len(comb))\n"
   ]
  },
  {
   "cell_type": "markdown",
   "id": "350d9b6b-3446-4030-92de-fdcaea1bfed6",
   "metadata": {},
   "source": [
    "## Regex\n",
    "##### Regular Expressions (Expressões Regulares)"
   ]
  },
  {
   "cell_type": "code",
   "execution_count": 4,
   "id": "03745cbd-70b6-4f33-9634-83d246e6fcee",
   "metadata": {
    "collapsed": true,
    "jupyter": {
     "outputs_hidden": true
    },
    "tags": []
   },
   "outputs": [
    {
     "name": "stdout",
     "output_type": "stream",
     "text": [
      "<re.Match object; span=(4, 8), match='rino'>\n",
      "<re.Match object; span=(4, 6), match='ri'>\n",
      "rino\n",
      "None\n"
     ]
    }
   ],
   "source": [
    "import re \n",
    "\n",
    "palavra = r'otorrinolaringologista 816'\n",
    "\n",
    "print(re.search(r'rino', palavra))\n",
    "\n",
    "print(re.search(r'ri', palavra))\n",
    "\n",
    "print(re.search(r'rino', palavra).group(0))\n",
    "\n",
    "print(re.search(r'100', palavra))\n"
   ]
  },
  {
   "cell_type": "markdown",
   "id": "708a09b3-92d8-45f4-852c-bff7eb075902",
   "metadata": {},
   "source": [
    "* REGEX - tabela com alguns simbolos e suas representações"
   ]
  },
  {
   "cell_type": "markdown",
   "id": "bf8853c9-8dad-4513-99d5-02bf96456f2f",
   "metadata": {},
   "source": [
    "\n",
    "| Símbolo  |     Representção                                        |\n",
    "|----------|---------------------------------------------------------|\n",
    "|   .      |     Qualquer caractere exceto nova linha                |\n",
    "|    \\d    |      è um digito (0-9)                                  |\n",
    "|    \\D    |      Não é um digito (0-9)                              |\n",
    "|    \\w    |      Caractere de palavra (a-z, A-Z, 0-9, _)            |\n",
    "|    \\W    |      Não é caractere verbal                             |\n",
    "|    \\s    |      Espaço em branco (espaço, tabulação, nova linha)   |\n",
    "|    \\S    |      Não é espaço em branco (espaço, ...)               |\n",
    "|    \\b    |      Limite de palavras                                 |\n",
    "|    \\B    |      Não é um limite de palavras                        |\n",
    "|    ^     |      Começo de uma string                               |\n",
    "|    $     |      Fim de uma string                                  | \n",
    "|    []    |      Corresponde aos caracteres entre colchetes         | \n",
    "|    [^ ]  |      Corresponde aos caracteres, MENOS o que está entre colchetes| \n",
    "|    Pipe (Barra vertical)     |      OU                             | \n",
    "|    ()    |      Grupo                                              | "
   ]
  },
  {
   "cell_type": "markdown",
   "id": "5dbf08b8-b55e-402c-a3fb-ed89cd0b8edc",
   "metadata": {},
   "source": [
    "* EXEMPLO:\n",
    "    ao invés de procurar um número especifico em uma string, você pode \n",
    "    utilizar o simbolo \\d, que representa um número entre 0 e 9, \n",
    "    deixando a pesquisa mas flexível."
   ]
  },
  {
   "cell_type": "code",
   "execution_count": 16,
   "id": "488b590c-b998-4ead-aae4-d0cf71b38355",
   "metadata": {
    "tags": []
   },
   "outputs": [
    {
     "name": "stdout",
     "output_type": "stream",
     "text": [
      "<re.Match object; span=(23, 25), match='46'>\n",
      "['46', '93', '20', '63', '92', '89', '42', '01', '74', '11', '61', '47', '40', '48', '95']\n",
      "['(46)', '(89)', '(61)']\n"
     ]
    }
   ],
   "source": [
    "import re\n",
    "palavra = r\"Laura Maria da Silva\\n(46) 93201-6392\\n(89) 42010-7411\\n(61) 47405-4895\\nRua José Geraldo\\nlauramaria@hotmail.com\\nLe@d Dell Technologies\"\n",
    "\n",
    "print(re.search(r'[0-9][0-9]', palavra))\n",
    "\n",
    "print(re.findall(r'[0-9][0-9]', palavra))\n",
    "\n",
    "print(re.findall(r'\\W[0-9][0-9]\\W', palavra))"
   ]
  },
  {
   "cell_type": "markdown",
   "id": "9e452ac9-fabb-45c5-87b0-43132262908d",
   "metadata": {},
   "source": [
    "### Quantificadores\n",
    "* Quanto mais padrões você coloca nas REGEX, maiores elas ficam. para facilitar a criação das expressões, são utilizados quantificadoresde repetição. Eles possuem o papel de fazer com que os mecanismos da REGEX correspondam a uma determinada quantidade de ocorrencias. A tabela a seguir associa um símbolo à quantidade de ocorrências que aquele símbolo representa."
   ]
  },
  {
   "cell_type": "markdown",
   "id": "90df25ee-fafb-442e-bf53-cb327a869c7d",
   "metadata": {},
   "source": [
    "\n",
    "| | Quantificadores|\n",
    "|------------|-----------|\n",
    "| * | 0 ou mais |\n",
    "| + | 1 ou mais |\n",
    "| ? |  0 ou 1   |\n",
    "|{3}| Número exato|\n",
    "|{3,4} | Faixa de números (min., màx.) |"
   ]
  },
  {
   "cell_type": "code",
   "execution_count": 5,
   "id": "d584d96d-eef6-4e65-9abd-cd4971d64411",
   "metadata": {
    "tags": []
   },
   "outputs": [
    {
     "name": "stdout",
     "output_type": "stream",
     "text": [
      "['(46)', '(89)', '(61)']\n",
      "['(46)', '(89)', '(61)']\n",
      "['(46)', '(89)', '(61)']\n",
      "['93201-6392', '42010-7411', '47405-4895']\n",
      "['(46) 93201-6392', '(89) 42010-7411', '(61) 47405-4895']\n"
     ]
    }
   ],
   "source": [
    "import re\n",
    "dados = r\"Laura Maria da Silva\\n(46) 93201-6392\\n(89) 42010-7411\\n(61) 47405-4895\\nRua José Geraldo\\nlauramaria@hotmail.com\\nLe@d Dell Technologies\"\n",
    "\n",
    "print(re.findall(r'\\W[0-9][0-9]\\W', dados))\n",
    "\n",
    "print(re.findall(r'\\W[0-9]{2}\\W', dados))\n",
    "\n",
    "print(re.findall(r'\\W\\d{2}\\W', dados))\n",
    "\n",
    "print(re.findall(r'\\d{5}\\W\\d{4}', dados))\n",
    "      \n",
    "\n",
    "print(re.findall(r'\\W\\d{2}\\W\\s\\d{5}\\W\\d{4}', dados))\n"
   ]
  },
  {
   "cell_type": "code",
   "execution_count": 14,
   "id": "22fd5a89-953e-4f2e-94e1-3fce3835b398",
   "metadata": {
    "tags": []
   },
   "outputs": [
    {
     "name": "stdout",
     "output_type": "stream",
     "text": [
      "['contato@', 'franciscojose@', 'ana.julia@', 'francisca-321-aline@', 'le@']\n",
      "\n",
      "['@dellead.', '@yahoo.', '@universidade.', '@meu-trabalho.']\n",
      "\n",
      "['@dellead.com', '@yahoo.com.br', '@universidade.edu', '@meu-trabalho.net']\n",
      "\n",
      "['contato@dellead.com', 'franciscojose@yahoo.com.br', 'ana.julia@universidade.edu', 'francisca-321-aline@meu-trabalho.net']\n"
     ]
    }
   ],
   "source": [
    "import re \n",
    "palavra = r'contato@dellead.com, franciscojose@yahoo.com.br, ana.julia@universidade.edu, francisca-321-aline@meu-trabalho.net, le@d Dell Technologies'\n",
    "\n",
    "print(re.findall(r'[a-zA-Z0-9_.-]+@', palavra))\n",
    "print('')\n",
    "print(re.findall(r'@[a-zA-Z0-9-]+\\.', palavra))\n",
    "print('')\n",
    "print(re.findall(r'@[a-zA-Z0-9-]+\\.[a-zA-Z0-9-.]+', palavra))\n",
    "print('')\n",
    "print(re.findall(r'[a-zA-Z0-9_.-]+@[a-zA-Z0-9-]+\\.[a-zA-Z0-9-.]+', palavra))\n"
   ]
  },
  {
   "cell_type": "markdown",
   "id": "c8926312-1f24-4278-8681-14a03b134b81",
   "metadata": {},
   "source": [
    "## Logging\n",
    "\n",
    "* é uma ferramenta essencial para o cientista de dados, podendo ser util para saber se seu modelo de Machine Learning ainda possui uma boa performance, podendod até dar respostas caso não estaja prevendo dados tão bem."
   ]
  },
  {
   "cell_type": "markdown",
   "id": "bb66c973-c3aa-408a-997d-822507b9953b",
   "metadata": {},
   "source": [
    "\n",
    " **Nível** | **Valor Gravidade** | **Quando deve ser utilizado um uma mensagem** |\n",
    ":--------|:-----------------:|-------------------------------------------|\n",
    " CRITICAL | 50 | Quando há uma interferência que o programa não consegue  continuar  a funcionar corretamente. |\n",
    " ERROR | 40 | Quando ocorre uma interferência momentânea de alguma funcionalidade. |\n",
    " WARNING | 30 | Quando ocorre um erro mas não interfe na execução do programa. |\n",
    " INFO | 20 | Para obter informações do programa, como ele está funcionando e como está sendo utilizado, para fins de conhecimento. |\n",
    " DEBUG | 10 | Quando se quer saber se todas as instruções estão funcionando corretamente. |"
   ]
  },
  {
   "cell_type": "code",
   "execution_count": 27,
   "id": "47b310cb-fe15-461e-a610-a69415ddfc8a",
   "metadata": {},
   "outputs": [],
   "source": [
    "import logging\n",
    "\n",
    "#Criação e configuração do objeto logger \n",
    "logging.basicConfig(filename = 'logs.log')\n",
    "logger = logging.getLogger()\n",
    "\n",
    "#Testando o logger\n",
    "logger.debug('Depuração')\n",
    "logger.info('informação')\n",
    "logger.warning('aviso')\n",
    "logger.error('erro')\n",
    "logger.critical('crítico')"
   ]
  },
  {
   "cell_type": "code",
   "execution_count": 28,
   "id": "c58e5fd8-27dd-40d5-83ce-c06d6bc467f8",
   "metadata": {},
   "outputs": [],
   "source": [
    "import logging\n",
    "\n",
    "#criação e configuração do objeto logger\n",
    "logging.basicConfig(filename = 'logs.log', level = logging.DEBUG)\n",
    "logger = logging.getLogger()\n",
    "\n",
    "#Testando o logger \n",
    "logger.debug('depuração')\n",
    "logger.info('informação')\n",
    "logger.warning('aviso')\n",
    "logger.error('erro')\n",
    "logger.critical('critico')\n"
   ]
  },
  {
   "cell_type": "markdown",
   "id": "8f482ff8-676b-4e2c-abc5-187f8ed8f714",
   "metadata": {},
   "source": [
    "* **formas de formatar a saída de log**\n",
    "\n",
    "**Nome do atributo** |   **Formatação**   | **Decrição**\n",
    ":------------:|:--------------------:|-----------\n",
    "asctime | %(asctime)s | Hora legível por humanos quando o registro é criado. Por padrão, ele está no formato '2003-07-08 16:49:45.896'(os números após a vírgula correspondem à parte em milissegundos do tempo).\n",
    "Nome do nível | %(levelname)s | Nível de registro de texto para a mesnagem ('DEBUG', 'INFO', 'WARNING', 'ERROR', 'CRITICAL').\n",
    "mensagem | %(message)s | A mensagem registrada quando o log é criado."
   ]
  },
  {
   "cell_type": "markdown",
   "id": "95656ac5-5054-4285-88de-c468d1e70f5f",
   "metadata": {},
   "source": [
    "#### Mudando o tipo de registro do log \n",
    "* filemode já vem implicito no comando 'basicConfig' com o parâmetro **(filemode = 'a')** \n",
    "que significa anexar (adicionar à algo já existente).\n",
    "* quando o declaramos de forma explicita, podemos mudar sua abordagem com o parâmetro **'w'**\n",
    "que significa escrever, ele apaga o já existente e escreve um log novo."
   ]
  },
  {
   "cell_type": "code",
   "execution_count": 42,
   "id": "163ede8a-cd8e-4d39-aaa3-f71539943d32",
   "metadata": {},
   "outputs": [],
   "source": [
    "import logging\n",
    "\n",
    "#Criação e configuração do objeto logger\n",
    "FORMATACAO_MSG = \"%(asctime) | %(levelname)s  |  %(message)s\" \n",
    "\n",
    "logging.basicConfig(filename = 'logs.log', level = logging.DEBUG, format = FORMATACAO_MSG, \n",
    "                    filemode = 'w')#Ao adicionarmos esse comando limpamos o log por um novo log\n",
    "logger = logging.getLogger()\n",
    "\n",
    "#Testando o logger\n",
    "logger.debug('depuração')\n",
    "logger.info('informação')\n",
    "logger.warning('aviso')\n",
    "logger.error('erro')\n",
    "logger.critical('critico')"
   ]
  },
  {
   "cell_type": "code",
   "execution_count": 41,
   "id": "0bdf0e91-d807-416b-b302-18177facd113",
   "metadata": {
    "tags": []
   },
   "outputs": [
    {
     "name": "stdout",
     "output_type": "stream",
     "text": [
      "Vamos dividir dois números!\n"
     ]
    },
    {
     "name": "stdin",
     "output_type": "stream",
     "text": [
      "Digite o primeiro número: 1\n",
      "Digite o segundo número: 2\n"
     ]
    },
    {
     "name": "stdout",
     "output_type": "stream",
     "text": [
      "O resultado é 0.5\n",
      "---------------------\n",
      "Vamos dividir dois números!\n"
     ]
    },
    {
     "name": "stdin",
     "output_type": "stream",
     "text": [
      "Digite o primeiro número: 2\n",
      "Digite o segundo número: 0\n"
     ]
    },
    {
     "name": "stdout",
     "output_type": "stream",
     "text": [
      "Essa operação é impossível\n",
      "---------------------\n",
      "Vamos dividir dois números!\n"
     ]
    },
    {
     "name": "stdin",
     "output_type": "stream",
     "text": [
      "Digite o primeiro número: 7\n",
      "Digite o segundo número: a\n"
     ]
    },
    {
     "name": "stdout",
     "output_type": "stream",
     "text": [
      "Erro, tente novamente\n",
      "---------------------\n"
     ]
    }
   ],
   "source": [
    "logger.info('O programa foi iniciado')\n",
    "for i in range(3):\n",
    "    try:\n",
    "        logger.debug('Iteração número {0}'.format(i))\n",
    "        print('Vamos dividir dois números!')\n",
    "        \n",
    "        num_1 = int(input('Digite o primeiro número:'))\n",
    "        logger.debug('O usuário digitou o primeiro número: {0}'.format(num_1))\n",
    "        num_2 = int(input('Digite o segundo número:'))\n",
    "        logger.debug('O usuário digitou o segundo número: {0}'.format(num_2))\n",
    "        \n",
    "        resultado = num_1/num_2\n",
    "        print('O resultado é',resultado)\n",
    "        logger.debug('O resultado da operação: {0}'.format(resultado))\n",
    "        \n",
    "    except ZeroDivisionError:\n",
    "        print('Essa operação é impossível')\n",
    "        logger.warning('O usuário tentou fazer uma divisão por 0')\n",
    "    except Exception as erro:\n",
    "        print('Erro, tente novamente')\n",
    "        logger.error('Erro não esperado ->'+str(erro))\n",
    "        \n",
    "    finally:\n",
    "        print('---------------------')"
   ]
  },
  {
   "cell_type": "code",
   "execution_count": null,
   "id": "9fd8c054-496e-433f-9ae2-b1217afd4f35",
   "metadata": {},
   "outputs": [],
   "source": []
  }
 ],
 "metadata": {
  "kernelspec": {
   "display_name": "Python 3 (ipykernel)",
   "language": "python",
   "name": "python3"
  },
  "language_info": {
   "codemirror_mode": {
    "name": "ipython",
    "version": 3
   },
   "file_extension": ".py",
   "mimetype": "text/x-python",
   "name": "python",
   "nbconvert_exporter": "python",
   "pygments_lexer": "ipython3",
   "version": "3.10.0"
  }
 },
 "nbformat": 4,
 "nbformat_minor": 5
}
