{
 "cells": [
  {
   "cell_type": "markdown",
   "id": "a8f2109d-14d2-4793-bb3e-834b3b05f0b0",
   "metadata": {},
   "source": [
    "## Aula 1.3 - Datetime"
   ]
  },
  {
   "cell_type": "markdown",
   "id": "40506c16-900e-4673-a146-518c87c7b36b",
   "metadata": {},
   "source": [
    "* durante os exemplos desta aula, será levada em consideração a data referente ao dia 14/05/2021. Considere essa data como exemplo nos códigos durante o restante do conteúdo."
   ]
  },
  {
   "cell_type": "code",
   "execution_count": 2,
   "id": "c87a663f-987c-4e70-82f7-ac0e74fb11b3",
   "metadata": {},
   "outputs": [
    {
     "name": "stdout",
     "output_type": "stream",
     "text": [
      "<class 'datetime.date'>\n"
     ]
    }
   ],
   "source": [
    "from datetime import date\n",
    "print(date)"
   ]
  },
  {
   "cell_type": "code",
   "execution_count": 5,
   "id": "9a894bec-96c7-4fa3-b36a-ca2af3e3808a",
   "metadata": {},
   "outputs": [
    {
     "name": "stdout",
     "output_type": "stream",
     "text": [
      "2021-11-08\n"
     ]
    }
   ],
   "source": [
    "hoje = date.today()\n",
    "print(hoje)"
   ]
  },
  {
   "cell_type": "code",
   "execution_count": 6,
   "id": "edadeed9-7c97-4add-996c-d6ad1701600c",
   "metadata": {},
   "outputs": [
    {
     "name": "stdout",
     "output_type": "stream",
     "text": [
      "2021-01-01\n"
     ]
    }
   ],
   "source": [
    "dia_primeiro = date(2021, 1, 1)\n",
    "print(dia_primeiro)"
   ]
  },
  {
   "cell_type": "code",
   "execution_count": 10,
   "id": "3e323d6e-c63f-4522-9332-e8074680e3c1",
   "metadata": {},
   "outputs": [
    {
     "name": "stdout",
     "output_type": "stream",
     "text": [
      "2021\n",
      "1\n",
      "1\n"
     ]
    }
   ],
   "source": [
    "print(dia_primeiro.year)\n",
    "print(dia_primeiro.month)\n",
    "print(dia_primeiro.day)"
   ]
  },
  {
   "cell_type": "markdown",
   "id": "92acab0b-9f12-4418-aee6-4e7bdbf7e1ea",
   "metadata": {},
   "source": [
    "* comparação de datas "
   ]
  },
  {
   "cell_type": "code",
   "execution_count": 14,
   "id": "54c92db1-1467-400a-ae28-348994594ac3",
   "metadata": {},
   "outputs": [
    {
     "name": "stdout",
     "output_type": "stream",
     "text": [
      "Iniciou em 2021-01-25 e terminou em 2021-05-04\n"
     ]
    }
   ],
   "source": [
    "data_inicio = date(2021, 1,25)\n",
    "data_fim = date(2021, 5, 4)\n",
    "print(f\"Iniciou em {data_inicio} e terminou em {data_fim}\")"
   ]
  },
  {
   "cell_type": "code",
   "execution_count": 22,
   "id": "ea43d5c8-0d7a-4370-80c2-14536ba8153e",
   "metadata": {},
   "outputs": [
    {
     "name": "stdout",
     "output_type": "stream",
     "text": [
      "True\n",
      "99 days, 0:00:00\n"
     ]
    }
   ],
   "source": [
    "print(data_inicio<data_fim)\n",
    "diferenca_dias = data_fim - data_inicio\n",
    "print(diferenca_dias)"
   ]
  },
  {
   "cell_type": "markdown",
   "id": "8f34b46e-6010-4b41-ac42-91b0fb03ed9a",
   "metadata": {},
   "source": [
    "* timedelta"
   ]
  },
  {
   "cell_type": "code",
   "execution_count": 23,
   "id": "ba4d1df2-711b-4b55-a4be-efaa3804e396",
   "metadata": {},
   "outputs": [
    {
     "name": "stdout",
     "output_type": "stream",
     "text": [
      "<class 'datetime.timedelta'>\n"
     ]
    }
   ],
   "source": [
    "print(type(diferenca_dias))\n"
   ]
  },
  {
   "cell_type": "markdown",
   "id": "b1aec767-f8b6-4b7b-908f-bf2c1ac1e270",
   "metadata": {},
   "source": [
    "* Existe um erro de cáculo , a duração de dias entre uma data 'd1' e uma data 'd2'é: \n",
    "#### **(d2 - d1) +1**\n",
    "\n",
    "###### Lembre-se de somar sempre 1 para calcular a duração de um intervalo de tempo."
   ]
  },
  {
   "cell_type": "code",
   "execution_count": 25,
   "id": "d1564055-dafe-4ed7-941f-2b3103e94d15",
   "metadata": {},
   "outputs": [
    {
     "name": "stdout",
     "output_type": "stream",
     "text": [
      "A duração foi de 100 dias\n"
     ]
    }
   ],
   "source": [
    "diferenca_dias = data_fim - data_inicio\n",
    "duracao = diferenca_dias.days + 1\n",
    "print(f\"A duração foi de {duracao} dias\")"
   ]
  },
  {
   "cell_type": "code",
   "execution_count": 29,
   "id": "0dc820e6-8a13-41c7-9999-7617f5e2ddae",
   "metadata": {},
   "outputs": [
    {
     "name": "stdout",
     "output_type": "stream",
     "text": [
      "-12 days, 0:00:00\n"
     ]
    }
   ],
   "source": [
    "diff = date(2021, 1, 2) - date(2021, 1, 14)\n",
    "print(diff)"
   ]
  },
  {
   "cell_type": "code",
   "execution_count": 31,
   "id": "603de49f-9174-4445-9e87-50113a8e4724",
   "metadata": {},
   "outputs": [
    {
     "name": "stdout",
     "output_type": "stream",
     "text": [
      "Daqui a 28 dias será 2021-08-06\n"
     ]
    }
   ],
   "source": [
    "from datetime import date, timedelta\n",
    "hoje = date (2021, 5,14)\n",
    "intervalo_dias = timedelta(weeks=12)\n",
    "dia_futuro = hoje +intervalo_dias\n",
    "print(f\"Daqui a 28 dias será {dia_futuro}\")"
   ]
  },
  {
   "cell_type": "code",
   "execution_count": 32,
   "id": "df6ef94e-a29d-43e2-b426-64f7a56fde84",
   "metadata": {},
   "outputs": [
    {
     "name": "stdout",
     "output_type": "stream",
     "text": [
      "[datetime.date(2012, 7, 2), datetime.date(2012, 10, 24), datetime.date(2013, 5, 29), datetime.date(2016, 7, 6), datetime.date(2018, 9, 2), datetime.date(2018, 9, 5), datetime.date(2019, 1, 19), datetime.date(2020, 3, 19), datetime.date(2021, 8, 12), datetime.date(2021, 8, 24)]\n"
     ]
    }
   ],
   "source": [
    "datas = [date(2016, 7, 6), date(2012, 10, 24), date(2020, 3, 19), date(2021, 8, 24), \n",
    "         date(2021, 8, 12), date(2013, 5, 29), date(2018, 9, 2), \n",
    "         date(2019, 1, 19), date(2012, 7, 2), date(2018, 9, 5)]\n",
    "print(sorted(datas))"
   ]
  },
  {
   "cell_type": "markdown",
   "id": "dbee21ae-a579-4d83-aa1c-f7e911a4cf09",
   "metadata": {},
   "source": [
    "#### Como ordenar de acordo como mês primeiro?\n",
    "* Lembre-se, na aula de Programação Funcional, você aprendeu que o método sorted pode receber o argumento \"key\", podendo utilizar uma \"função lambda\" (quer dizer que não precisa instânciar para usa-la), que retorna somente o atributo month das datas."
   ]
  },
  {
   "cell_type": "code",
   "execution_count": 33,
   "id": "58b6b32c-cfe6-4b81-96bc-b52074b375d2",
   "metadata": {},
   "outputs": [
    {
     "name": "stdout",
     "output_type": "stream",
     "text": [
      "[datetime.date(2019, 1, 19), datetime.date(2020, 3, 19), datetime.date(2013, 5, 29), datetime.date(2016, 7, 6), datetime.date(2012, 7, 2), datetime.date(2021, 8, 24), datetime.date(2021, 8, 12), datetime.date(2018, 9, 2), datetime.date(2018, 9, 5), datetime.date(2012, 10, 24)]\n"
     ]
    }
   ],
   "source": [
    "print(sorted(datas, key=lambda d: d.month))"
   ]
  },
  {
   "cell_type": "code",
   "execution_count": 35,
   "id": "365c6197-8f02-435c-8b12-d4e49a4337f8",
   "metadata": {},
   "outputs": [
    {
     "name": "stdout",
     "output_type": "stream",
     "text": [
      "[datetime.date(2018, 9, 2), datetime.date(2012, 7, 2), datetime.date(2018, 9, 5), datetime.date(2016, 7, 6), datetime.date(2021, 8, 12), datetime.date(2020, 3, 19), datetime.date(2019, 1, 19), datetime.date(2012, 10, 24), datetime.date(2021, 8, 24), datetime.date(2013, 5, 29)]\n"
     ]
    }
   ],
   "source": [
    "print(sorted(datas, key=lambda dias: dias.day))"
   ]
  },
  {
   "cell_type": "code",
   "execution_count": 36,
   "id": "c5d45dde-d6dd-4c83-aa70-cfec219b5da2",
   "metadata": {},
   "outputs": [
    {
     "name": "stdout",
     "output_type": "stream",
     "text": [
      "[datetime.date(2019, 1, 19), datetime.date(2020, 3, 19), datetime.date(2013, 5, 29), datetime.date(2012, 7, 2), datetime.date(2016, 7, 6), datetime.date(2021, 8, 12), datetime.date(2021, 8, 24), datetime.date(2018, 9, 2), datetime.date(2018, 9, 5), datetime.date(2012, 10, 24)]\n"
     ]
    }
   ],
   "source": [
    "print(sorted(datas, key=lambda t: (t.month, t.day)))"
   ]
  },
  {
   "cell_type": "markdown",
   "id": "757b3e95-450a-4e61-887c-67c3b9371ec4",
   "metadata": {},
   "source": [
    "#### **from datetime import datetime**\n",
    "\n",
    "#### os nomes são iguais, mas o primeiro datetime refere-se ao módulo e o segundo à classe.\n",
    "\n",
    "* Vamos trabalhar com esta exemplo: que horas são na sua cidade? Você pode utilizar o método \"now\" para decobrir."
   ]
  },
  {
   "cell_type": "code",
   "execution_count": 43,
   "id": "9f8fb2f6-df13-4332-ae1c-8d334eb03c91",
   "metadata": {},
   "outputs": [
    {
     "name": "stdout",
     "output_type": "stream",
     "text": [
      "2021-11-08 05:30:05.085614\n"
     ]
    }
   ],
   "source": [
    "from datetime import datetime\n",
    "hora_atual = datetime.now()\n",
    "print(hora_atual)"
   ]
  },
  {
   "cell_type": "code",
   "execution_count": 44,
   "id": "ef3e3e3d-bf25-4449-bc86-851743b57183",
   "metadata": {},
   "outputs": [
    {
     "name": "stdout",
     "output_type": "stream",
     "text": [
      "2021-05-15 18:01:59.123456 \n",
      " 2021-05-15 18:01:59 \n",
      " 2021-05-15 18:01:00 \n",
      " 2021-05-15 18:00:00 \n",
      " 2021-05-15 00:00:00\n"
     ]
    }
   ],
   "source": [
    "d1 = datetime(2021, 5, 15, 18, 1, 59, 123456)\n",
    "d2 = datetime(2021, 5, 15, 18, 1, 59)\n",
    "d3 = datetime(2021, 5, 15, 18, 1)\n",
    "d4 = datetime(2021, 5, 15, 18)\n",
    "d5 = datetime(2021, 5, 15)\n",
    "print(d1, '\\n', d2,'\\n', d3, '\\n', d4, '\\n', d5)"
   ]
  },
  {
   "cell_type": "code",
   "execution_count": 45,
   "id": "7a0a01d4-c47a-4243-9e16-b1ba844af4a3",
   "metadata": {},
   "outputs": [
    {
     "name": "stdout",
     "output_type": "stream",
     "text": [
      "18 1 59 123456\n"
     ]
    }
   ],
   "source": [
    "print(d1.hour, d1.minute, d1.second, d1.microsecond)"
   ]
  },
  {
   "cell_type": "markdown",
   "id": "711ea122-5632-414b-80e2-b09c4bae3b72",
   "metadata": {},
   "source": [
    "Para usar o dia da semana dentro da data, você pode se utilizar de duas funções:\n",
    "**weekday** ou **isoweekday**, a diferença é que os valores da primeira função vão de 0 à 6,\n",
    "e os da segunda função variam de 1 à 7.\n"
   ]
  },
  {
   "cell_type": "code",
   "execution_count": 46,
   "id": "4b98654d-3dd4-4b95-a4f5-2392cdaa2644",
   "metadata": {},
   "outputs": [
    {
     "name": "stdout",
     "output_type": "stream",
     "text": [
      "4 5\n"
     ]
    }
   ],
   "source": [
    "dia_primeiro = datetime(2021, 1, 1)\n",
    "print(dia_primeiro.weekday(), dia_primeiro.isoweekday())"
   ]
  },
  {
   "cell_type": "code",
   "execution_count": 48,
   "id": "82a09dcc-44ad-4260-ab29-196e47eb14a6",
   "metadata": {},
   "outputs": [
    {
     "name": "stdout",
     "output_type": "stream",
     "text": [
      "01 de Janeiro de 2021 é o dia 4, logo uma sexta-feira\n"
     ]
    }
   ],
   "source": [
    "print(f\"01 de Janeiro de 2021 é o dia {dia_primeiro.weekday()}, logo uma sexta-feira\")"
   ]
  },
  {
   "cell_type": "markdown",
   "id": "52a0b8c2-6e00-4983-9037-4e91e77ba96a",
   "metadata": {},
   "source": [
    " você vai criar um programa que toca um alarme às 20:30h e um depois de 30 segundos. Só que você lembrou que tem um compromisso às terças e quintas. Portanto, você deve mudar a hora do alarme para às 21:30h."
   ]
  },
  {
   "cell_type": "code",
   "execution_count": 2,
   "id": "a822e9c3-4a7d-4a68-8cb7-6953e8a5593f",
   "metadata": {},
   "outputs": [
    {
     "name": "stdout",
     "output_type": "stream",
     "text": [
      "[datetime.datetime(2021, 5, 24, 20, 30), datetime.datetime(2021, 5, 25, 20, 30), datetime.datetime(2021, 5, 26, 20, 30), datetime.datetime(2021, 5, 27, 20, 30), datetime.datetime(2021, 5, 28, 20, 30), datetime.datetime(2021, 5, 29, 20, 30), datetime.datetime(2021, 5, 30, 20, 30)]\n",
      "\n",
      "7\n"
     ]
    }
   ],
   "source": [
    "from datetime import datetime, timedelta\n",
    "\n",
    "inicio = datetime(2021, 5, 24, 20, 30)\n",
    "semana = [inicio]\n",
    "for i in range(1, 7):\n",
    "    dia_seguinte = inicio + timedelta(days=i)\n",
    "    semana.append(dia_seguinte)\n",
    "print(semana)\n",
    "\n",
    "print(len(semana))"
   ]
  },
  {
   "cell_type": "code",
   "execution_count": null,
   "id": "c1019548-66be-4ef8-9fb0-a46dde7f795d",
   "metadata": {},
   "outputs": [],
   "source": [
    "from datetime import datetime, timedelta\n",
    "\n",
    "def muda_horario(dia):\n",
    "    if dia.weekday() == 1 or dia.weekday() == 4:\n",
    "        return dia.replace(hour=21)\n",
    "    else:\n",
    "        return dia \n",
    "\n",
    "inicio = datetime(2021, 5, 24, 20, 30)\n",
    "semana = [inicio]\n",
    "for i in range(1, 7):\n",
    "    dia_seguinte = inicio + timedelta(days=i)\n",
    "    semana.append(dia_seguinte)\n",
    "print(\"Semanas:\", semana)\n",
    "print()\n",
    "semana_atualizada = list(map(muda_horario, semana))\n",
    "print(\"Semanas Atualizadas :\", semana_atualizada)\n",
    "print()\n",
    "print(len(semana))"
   ]
  },
  {
   "cell_type": "markdown",
   "id": "2ff25d25-1f09-4b98-b2c4-c309620a6407",
   "metadata": {},
   "source": [
    "* O módulo datetime fornece duas classes para lidar com os fusos horários. A primeira é a classe base abstrata **\"tzinfo\"** para armazenamento e configuração de detalhes de fuso horário. Por ser uma classe abstrata, não é possível criar objetos diretamente dela."
   ]
  },
  {
   "cell_type": "code",
   "execution_count": 67,
   "id": "aad4601c-b69d-421b-8050-17788ec97441",
   "metadata": {},
   "outputs": [
    {
     "name": "stdout",
     "output_type": "stream",
     "text": [
      "Desde 2014-07-16 23:00:00 passaram 7 anos, 4 meses, 2 dias, 19 horas, 24 minutos e 24 segundos\n"
     ]
    }
   ],
   "source": [
    "import datetime\n",
    "d1 = datetime.datetime(2014,7,16,23)\n",
    "d2 = datetime.datetime.now()\n",
    "diff = d2 - d1\n",
    "days = diff.days\n",
    "years, days = days // 365, days % 365\n",
    "months, days = days // 30, days % 30\n",
    "seconds = diff.seconds\n",
    "hours, seconds = seconds // 3600, seconds % 3600\n",
    "minutes, seconds = seconds // 60, seconds % 60\n",
    "print(\"Desde {} passaram {} anos, {} meses, {} dias, {} horas, {} minutos e {} segundos\"\n",
    "      .format(d1, years, months, days, hours, minutes, seconds))"
   ]
  },
  {
   "cell_type": "code",
   "execution_count": null,
   "id": "b5c49938-1c84-4e07-9607-7b4d7ed541b6",
   "metadata": {},
   "outputs": [],
   "source": []
  },
  {
   "cell_type": "code",
   "execution_count": 36,
   "id": "68ff4920-9374-4c4d-8149-e3590b1953d0",
   "metadata": {},
   "outputs": [
    {
     "name": "stdout",
     "output_type": "stream",
     "text": [
      "Desde 2021-08-06 09:30:00 passaram 2 meses e 24 dias\n"
     ]
    }
   ],
   "source": [
    "from datetime import datetime, timedelta\n",
    "hoje = datetime(2021, 5, 14, 9, 30)\n",
    "intervalo_dias = timedelta(weeks=12)\n",
    "dia_futuro = hoje + intervalo_dias\n",
    "diff = dia_futuro - hoje\n",
    "days = diff.days\n",
    "months, days = days // 30, days % 30\n",
    "print(\"Desde {} passaram {} meses e {} dias\".format(dia_futuro, months, days))"
   ]
  },
  {
   "cell_type": "markdown",
   "id": "2cc85556-7058-41dd-b7b3-95da88b9aaeb",
   "metadata": {},
   "source": [
    "## Convertendo Datas e Strings"
   ]
  },
  {
   "cell_type": "markdown",
   "id": "6f37bca1-eaca-4c1e-afcc-31521b838a09",
   "metadata": {},
   "source": [
    "* Neste tópico,aprenda sobre os métodos **\"strftime\"** e **\"strptime\"** para converter de datas \n",
    "* em strings e vice e versa.\n",
    "#####  método strftime converte uma data em uma string. Ela possui um único parâmetro chamado format. Este parâmetro é uma string composta por um conjunto de códigos, representam determinados atributos de uma data, por exemplo, **\"%d\"** representa o atributo de dia e **\"%m\"** o de mês. Além disso, o código de formato representa a forma como se quer apresentar o valor, por exemplo, **\"%Y\"** representa o atributo de ano com 4 dígitos (2021), e **\"%y\"** também representa o atributo de ano, mas somente os dois últimos dígitos (21)."
   ]
  },
  {
   "cell_type": "code",
   "execution_count": 43,
   "id": "c680aee5-c0d7-4d2e-a2fb-486651dd7316",
   "metadata": {},
   "outputs": [
    {
     "name": "stdout",
     "output_type": "stream",
     "text": [
      "25/01/2021\n"
     ]
    }
   ],
   "source": [
    "from datetime import date\n",
    "data_inicio = date(2021, 1, 25)\n",
    "print(data_inicio.strftime(\"%d/%m/%Y\"))\n",
    "\n",
    "\n",
    "\n"
   ]
  },
  {
   "cell_type": "markdown",
   "id": "eb7053bd-c4f6-42e5-805b-a7f06594e61e",
   "metadata": {
    "tags": []
   },
   "source": [
    "### A tabela a seguir mostra os principais códigos úteis do strftime:\n",
    "\n",
    "Código | Descrição |  Exemplo\n",
    "-------|-----------|----------\n",
    "%A | Nome do dia da semana completo | Monday, Tuesday, …, Sunday\n",
    "%d | Número do dia da semana | 01, 02, …, 31\n",
    "%b | Nome do mês de forma abreviada | Jan, Feb, Mar, ... , Dec\n",
    "%B | Nome do mês completo | January, February, …, December\n",
    "%m | Número do mês | 01, 02, …, 12\n",
    "%y | Dois últimos dígitos do ano | 01, 02, …, 99\n",
    "%Y | Número do ano completo | 0001, 0002, …, 2021, ...,\n",
    "%H | Número da hora | 01, 02, …, 24\n",
    "%M | Número do minuto | 01, 02, …, 59\n",
    "%S | Número do segundo | 01, 02, …, 59 \n",
    "%j | Número do dia do ano | 001, 002, …, 365, 366\n",
    "%W | Número da semana do ano | 00, 01, …, 53\n",
    "\n",
    "\n"
   ]
  },
  {
   "cell_type": "code",
   "execution_count": 48,
   "id": "845ef8e6-8d3b-422b-883a-ba9ff10bb8d8",
   "metadata": {},
   "outputs": [
    {
     "name": "stdout",
     "output_type": "stream",
     "text": [
      "25 of janeiro of 2021 é uma segunda-feira\n",
      "É o dia 025 da semana 04 do ano\n"
     ]
    }
   ],
   "source": [
    "import locale \n",
    "locale.setlocale(locale.LC_ALL, 'pt_BR')\n",
    "\n",
    "data_inicio = date(2021, 1,25)\n",
    "data_fim = date(2021, 5, 4)\n",
    "print(data_inicio.strftime(\"%d of %B of %Y é um(a) %A\"))\n",
    "\n",
    "print(data_inicio.strftime(\"É o dia %j da semana %W do ano\"))\n",
    "\n",
    "\n"
   ]
  },
  {
   "cell_type": "code",
   "execution_count": 64,
   "id": "2364b4dd-a2f7-4300-9a13-e2496b7369c2",
   "metadata": {
    "tags": []
   },
   "outputs": [
    {
     "name": "stdout",
     "output_type": "stream",
     "text": [
      "A hora de inicio do estudo é às 20:49:50\n",
      "\n",
      "\n",
      "Digite a sua data de nascimento\n"
     ]
    },
    {
     "name": "stdin",
     "output_type": "stream",
     "text": [
      " 22/05/1987\n"
     ]
    },
    {
     "name": "stdout",
     "output_type": "stream",
     "text": [
      "\n",
      " Data de Nascimento 1987-05-22\n"
     ]
    }
   ],
   "source": [
    "from datetime import datetime \n",
    "\n",
    "\n",
    "inicio = datetime(2021, 5, 24, 20, 49, 50)\n",
    "print(inicio.strftime(\"A hora de inicio do estudo é às %H:%M:%S\"))\n",
    "print(\"\\n\")\n",
    "\n",
    "print(\"Digite a sua data de nascimento\")\n",
    "data_nascimento = input()\n",
    "data_split = data_nascimento.split('/')\n",
    "dia = int(data_split[0])\n",
    "mes = int(data_split[1])\n",
    "ano = int(data_split[2])\n",
    "data = date(ano, mes, dia)\n",
    "\n",
    "print(\"\\n Data de Nascimento {}\".format(data) )\n",
    "\n",
    "\n",
    "\n",
    "\n",
    "\n"
   ]
  },
  {
   "cell_type": "code",
   "execution_count": 65,
   "id": "48358e34-85cc-4022-810c-33ac89db4da1",
   "metadata": {
    "tags": []
   },
   "outputs": [
    {
     "name": "stdout",
     "output_type": "stream",
     "text": [
      "1987-05-22 00:00:00\n"
     ]
    }
   ],
   "source": [
    "from datetime import datetime \n",
    "\n",
    "\n",
    "\n",
    "\n",
    "data = datetime.strptime(data_nascimento, \"%d/%m/%Y\")\n",
    "print(data)\n",
    "\n",
    "\n",
    "\n"
   ]
  },
  {
   "cell_type": "code",
   "execution_count": 70,
   "id": "0d23cb0c-0e49-4c48-9ff2-a08460475350",
   "metadata": {
    "tags": []
   },
   "outputs": [
    {
     "ename": "AttributeError",
     "evalue": "module 'datetime' has no attribute 'strptime'",
     "output_type": "error",
     "traceback": [
      "\u001b[1;31m---------------------------------------------------------------------------\u001b[0m",
      "\u001b[1;31mAttributeError\u001b[0m                            Traceback (most recent call last)",
      "\u001b[1;32m~\\AppData\\Local\\Temp/ipykernel_2384/2403337580.py\u001b[0m in \u001b[0;36m<module>\u001b[1;34m\u001b[0m\n\u001b[0;32m      1\u001b[0m \u001b[0mdata_string1\u001b[0m \u001b[1;33m=\u001b[0m \u001b[1;34m\"02 de Abril de 1900\"\u001b[0m\u001b[1;33m\u001b[0m\u001b[1;33m\u001b[0m\u001b[0m\n\u001b[1;32m----> 2\u001b[1;33m \u001b[0mdata1\u001b[0m \u001b[1;33m=\u001b[0m \u001b[0mdatetime\u001b[0m\u001b[1;33m.\u001b[0m\u001b[0mstrptime\u001b[0m\u001b[1;33m(\u001b[0m\u001b[0mdata_string1\u001b[0m\u001b[1;33m,\u001b[0m \u001b[1;34m\"%d de %B de %Y\"\u001b[0m\u001b[1;33m)\u001b[0m\u001b[1;33m\u001b[0m\u001b[1;33m\u001b[0m\u001b[0m\n\u001b[0m\u001b[0;32m      3\u001b[0m \u001b[0mprint\u001b[0m\u001b[1;33m(\u001b[0m\u001b[0mdata1\u001b[0m \u001b[1;33m)\u001b[0m\u001b[1;33m\u001b[0m\u001b[1;33m\u001b[0m\u001b[0m\n\u001b[0;32m      4\u001b[0m \u001b[0mdata_string2\u001b[0m \u001b[1;33m=\u001b[0m \u001b[1;34m\"O alarme toca segunda-feira às 20:30:05\"\u001b[0m\u001b[1;33m\u001b[0m\u001b[1;33m\u001b[0m\u001b[0m\n\u001b[0;32m      5\u001b[0m \u001b[0mdata2\u001b[0m \u001b[1;33m=\u001b[0m \u001b[0mdatetime\u001b[0m\u001b[1;33m.\u001b[0m\u001b[0mstrptime\u001b[0m\u001b[1;33m(\u001b[0m\u001b[0mdata_string2\u001b[0m\u001b[1;33m,\u001b[0m \u001b[1;34m\"O alarme toca %A às %H:%M:%S\"\u001b[0m\u001b[1;33m)\u001b[0m\u001b[1;33m\u001b[0m\u001b[1;33m\u001b[0m\u001b[0m\n",
      "\u001b[1;31mAttributeError\u001b[0m: module 'datetime' has no attribute 'strptime'"
     ]
    }
   ],
   "source": [
    "data_string1 = \"02 de Abril de 1900\"\n",
    "data1 = datetime.strptime(data_string1, \"%d de %B de %Y\")\n",
    "print(data1 )\n",
    "data_string2 = \"O alarme toca segunda-feira às 20:30:05\"\n",
    "data2 = datetime.strptime(data_string2, \"O alarme toca %A às %H:%M:%S\")\n",
    "print(data2)"
   ]
  },
  {
   "cell_type": "markdown",
   "id": "e7b166f9-9457-475e-88d0-b114d8d112f8",
   "metadata": {
    "tags": []
   },
   "source": [
    "#### Perceba que, por meio de strings com formatos bem diversos, é possível extrair as informações e criar um objeto datetime personalizado. Nos dois exemplos, as informações de data e tempo correspondem aos códigos nas duas strings.\n",
    "\n",
    "#### A função strftime permite a escrita de strings a partir de objetos datetime, e a função strptime funciona da forma inversa: realiza a criação de objetos datetimes a partir de strings."
   ]
  },
  {
   "cell_type": "code",
   "execution_count": null,
   "id": "3a89a22d-03a3-48fe-a18f-5ffb1d3dabd5",
   "metadata": {
    "tags": []
   },
   "outputs": [],
   "source": []
  }
 ],
 "metadata": {
  "kernelspec": {
   "display_name": "Python 3 (ipykernel)",
   "language": "python",
   "name": "python3"
  },
  "language_info": {
   "codemirror_mode": {
    "name": "ipython",
    "version": 3
   },
   "file_extension": ".py",
   "mimetype": "text/x-python",
   "name": "python",
   "nbconvert_exporter": "python",
   "pygments_lexer": "ipython3",
   "version": "3.10.0"
  }
 },
 "nbformat": 4,
 "nbformat_minor": 5
}
