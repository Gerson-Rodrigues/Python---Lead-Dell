{
 "cells": [
  {
   "cell_type": "code",
   "execution_count": 41,
   "id": "340b663d-2dcb-4519-a8af-c43fff025af8",
   "metadata": {
    "collapsed": true,
    "jupyter": {
     "outputs_hidden": true
    },
    "tags": []
   },
   "outputs": [
    {
     "name": "stdout",
     "output_type": "stream",
     "text": [
      "Músicas Ruins:\n",
      "4 de Rock\n",
      " 7 de POP\n",
      "\n",
      "Músicas Médias\n",
      "5 de Rock\n",
      " 6 de POP\n",
      "\n",
      "Músicas Boas\n",
      "11 de Rock\n",
      " 7 de POP\n",
      "\n"
     ]
    }
   ],
   "source": [
    "notas_rock = [5, 1, 4, 0, 2, 5, 2, 1, 0, 5, 5, 3, 5, 2, 5, 5, 3, 5, 4, 4]\n",
    "notas_pop = [3, 2, 5, 1, 2, 1, 4, 1, 5, 0, 4, 2, 1, 2, 5, 2, 4, 4, 0, 1]\n",
    "\n",
    "def faixa(notas_rock):\n",
    "    if notas_rock<=1:\n",
    "        return 'ruim'\n",
    "    elif 1<notas_rock<= 3:\n",
    "        return 'mediana'\n",
    "    else:\n",
    "        return 'boas'    \n",
    "    \n",
    "classificacao = list(map(faixa, notas_rock))\n",
    "#print(classificacao)\n",
    "rock_ruins = list(filter(lambda x: x == 'ruim', classificacao))\n",
    "rock_medianas = list(filter(lambda x: x == 'mediana', classificacao))\n",
    "rock_boas = list(filter(lambda x: x == 'boas', classificacao))\n",
    "\n",
    "\n",
    "def faixa(notas_pop):\n",
    "    if notas_pop<=1:\n",
    "        return 'ruim'\n",
    "    elif 1<notas_pop<=3:\n",
    "        return 'mediana'\n",
    "    else:\n",
    "        return 'boas'\n",
    "classificacao = list(map(faixa, notas_pop))\n",
    "\n",
    "pop_ruins = list(filter(lambda x: x == 'ruim', classificacao))\n",
    "pop_medianas = list(filter(lambda x: x == 'mediana', classificacao))\n",
    "pop_boas = list(filter(lambda x: x == 'boas', classificacao))\n",
    "\n",
    "print('Músicas Ruins:')\n",
    "print(len(rock_ruins), 'de Rock\\n', len(pop_ruins), 'de POP\\n')\n",
    "print('Músicas Médias')\n",
    "print(len(rock_medianas), 'de Rock\\n', len(pop_medianas), 'de POP\\n')\n",
    "print('Músicas Boas')\n",
    "print(len(rock_boas), 'de Rock\\n', len(pop_boas), 'de POP\\n')\n",
    "\n",
    "\n"
   ]
  }
 ],
 "metadata": {
  "kernelspec": {
   "display_name": "Python 3 (ipykernel)",
   "language": "python",
   "name": "python3"
  },
  "language_info": {
   "codemirror_mode": {
    "name": "ipython",
    "version": 3
   },
   "file_extension": ".py",
   "mimetype": "text/x-python",
   "name": "python",
   "nbconvert_exporter": "python",
   "pygments_lexer": "ipython3",
   "version": "3.10.0"
  }
 },
 "nbformat": 4,
 "nbformat_minor": 5
}
